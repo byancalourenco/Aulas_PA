{
  "nbformat": 4,
  "nbformat_minor": 0,
  "metadata": {
    "colab": {
      "provenance": [],
      "authorship_tag": "ABX9TyMq9KYg2j/J9GDOVpcoUWOw",
      "include_colab_link": true
    },
    "kernelspec": {
      "name": "python3",
      "display_name": "Python 3"
    },
    "language_info": {
      "name": "python"
    }
  },
  "cells": [
    {
      "cell_type": "markdown",
      "metadata": {
        "id": "view-in-github",
        "colab_type": "text"
      },
      "source": [
        "<a href=\"https://colab.research.google.com/github/byancalourenco/Aulas_PA/blob/main/exercicios_fluxograma.ipynb\" target=\"_parent\"><img src=\"https://colab.research.google.com/assets/colab-badge.svg\" alt=\"Open In Colab\"/></a>"
      ]
    },
    {
      "cell_type": "markdown",
      "source": [
        "# EXERCÍCIOS DE FLUXOGRAMA E TESTE DE MESA"
      ],
      "metadata": {
        "id": "VtmgCjpMTnqQ"
      }
    },
    {
      "cell_type": "markdown",
      "source": [
        "1 -"
      ],
      "metadata": {
        "id": "L5o1FpAoTwof"
      }
    },
    {
      "cell_type": "code",
      "source": [
        "VALOR = float(input(\"Digite o valor da peça: \"))\n",
        "QTDE = float(input(\"Digite a quantidade de peças: \"))\n",
        "VT = QTDE * VALOR\n",
        "print (\"O valor total é: \",VT)"
      ],
      "metadata": {
        "colab": {
          "base_uri": "https://localhost:8080/"
        },
        "id": "uZ0G4SzZT7BS",
        "outputId": "0e209f40-aa63-4dc2-9c2b-b3634cc44d14"
      },
      "execution_count": null,
      "outputs": [
        {
          "output_type": "stream",
          "name": "stdout",
          "text": [
            "Digite o valor da peça: 2\n",
            "Digite a quantidade de peças: 10\n",
            "O valor total é:  20.0\n"
          ]
        }
      ]
    },
    {
      "cell_type": "markdown",
      "source": [
        "2 -"
      ],
      "metadata": {
        "id": "-_hxS3w2VNQl"
      }
    },
    {
      "cell_type": "code",
      "execution_count": null,
      "metadata": {
        "colab": {
          "base_uri": "https://localhost:8080/"
        },
        "id": "Ffzz5B-xTm1f",
        "outputId": "b80a101d-b4f6-4ada-c4a3-15e686568a04"
      },
      "outputs": [
        {
          "output_type": "stream",
          "name": "stdout",
          "text": [
            "Digite a quantidade mínima do estoque: 23\n",
            "Digite a quantidade máxima do estoque: 33\n",
            "O valor 2médio do estoque é:  28.0\n"
          ]
        }
      ],
      "source": [
        "QTDEMIN = float(input(\"Digite a quantidade mínima do estoque: \"))\n",
        "QTDEMAXIMA = float(input(\"Digite a quantidade máxima do estoque: \"))\n",
        "ESTOQUEMEDIO = (QTDEMIN + QTDEMAXIMA)/2\n",
        "print (\"O valor 2médio do estoque é: \",ESTOQUEMEDIO)"
      ]
    },
    {
      "cell_type": "markdown",
      "source": [
        "3 - teste de mesa"
      ],
      "metadata": {
        "id": "2RxnzIkHYkAU"
      }
    },
    {
      "cell_type": "markdown",
      "source": [
        "4 -"
      ],
      "metadata": {
        "id": "SSDKSl80YpLz"
      }
    },
    {
      "cell_type": "code",
      "source": [
        "dolar = float(input(\"Digite o valor da cotação do dólar: \"))\n",
        "valor = float(input(\"Digite o valor que deseja converter: \"))\n",
        "resultado = valor/dolar\n",
        "print (\"O valor em reais (R$) covertido para dólar ($) é: \",resultado)"
      ],
      "metadata": {
        "colab": {
          "base_uri": "https://localhost:8080/"
        },
        "id": "iy95oHV9YqZU",
        "outputId": "cdf2f1ed-04ad-46dd-b6d0-59010701d65f"
      },
      "execution_count": null,
      "outputs": [
        {
          "output_type": "stream",
          "name": "stdout",
          "text": [
            "Digite o valor da cotação do dólar: 6\n",
            "Digite o valor que deseja converter: 2000\n",
            "O valor em reais (R$) covertido para dólar ($) é:  333.3333333333333\n"
          ]
        }
      ]
    },
    {
      "cell_type": "markdown",
      "source": [
        "5 -"
      ],
      "metadata": {
        "id": "9lITJ02wc2qW"
      }
    },
    {
      "cell_type": "code",
      "source": [
        "n1 = float(input(\"Digite o primeiro número: \"))\n",
        "n2 = float(input(\"Digite o segundo número: \"))\n",
        "n3 = float(input(\"Digite o terceiro número: \"))\n",
        "n4 = float(input(\"Digite o quarto número: \"))\n",
        "q1 = n1 * n1\n",
        "q2 = n2 * n2\n",
        "q3 = n3 * n3\n",
        "q4 = n4 *n4\n",
        "soma = q1 + q2 + q3 + q4\n",
        "print (\"O resultado é: \",soma)\n"
      ],
      "metadata": {
        "colab": {
          "base_uri": "https://localhost:8080/"
        },
        "id": "8LEUkmcndQAs",
        "outputId": "69fb6fa2-efa1-4eca-8e78-b9407e39ec3a"
      },
      "execution_count": null,
      "outputs": [
        {
          "output_type": "stream",
          "name": "stdout",
          "text": [
            "Digite o primeiro número: 15\n",
            "Digite o segundo número: 20\n",
            "Digite o terceiro número: 30\n",
            "Digite o quarto número: 45\n",
            "O resultado é:  3550.0\n"
          ]
        }
      ]
    },
    {
      "cell_type": "markdown",
      "source": [
        "6 -"
      ],
      "metadata": {
        "id": "2ftVjkTNl_rz"
      }
    },
    {
      "cell_type": "code",
      "source": [
        "PP = float(input(\"Digite o preço unitário por peça: \"))\n",
        "QV = float(input(\"Digite a quantidade de peças vendidas: \"))\n",
        "SC = PP * QV\n",
        "CC = SC * 0.05\n",
        "print (\"O valor do pagamento com a comissão de 5% é de: \",CC)"
      ],
      "metadata": {
        "colab": {
          "base_uri": "https://localhost:8080/"
        },
        "id": "Y6C3f2AqmB-T",
        "outputId": "2b2940e4-ad6a-4ceb-fb30-f2c321ee6330"
      },
      "execution_count": null,
      "outputs": [
        {
          "output_type": "stream",
          "name": "stdout",
          "text": [
            "Digite o preço unitário por peça: 2.5\n",
            "Digite a quantidade de peças vendidas: 200\n",
            "O valor do pagamento com a comissão de 5% é de:  25.0\n"
          ]
        }
      ]
    },
    {
      "cell_type": "markdown",
      "source": [
        "7 -"
      ],
      "metadata": {
        "id": "hb_Ek0Z_pwqH"
      }
    },
    {
      "cell_type": "code",
      "source": [
        "CF = float(input(\"Digite o valor do custo de fábrica: \"))\n",
        "I = CF * 0.45\n",
        "CFI = CF + I\n",
        "D = CFI * 0.28\n",
        "CFD = CFI + D\n",
        "print (\"O valor do custo do consumidor é: \",CFD)"
      ],
      "metadata": {
        "colab": {
          "base_uri": "https://localhost:8080/"
        },
        "id": "5RGj98xSrMXw",
        "outputId": "5cf347d4-8b48-44ff-c19d-358d7b7ab095"
      },
      "execution_count": null,
      "outputs": [
        {
          "output_type": "stream",
          "name": "stdout",
          "text": [
            "Digite o valor do custo de fábrica: 25000\n",
            "O valor do custo do consumidor é:  46400.0\n"
          ]
        }
      ]
    },
    {
      "cell_type": "markdown",
      "source": [
        "8 -"
      ],
      "metadata": {
        "id": "7-RcR-RPgPYM"
      }
    },
    {
      "cell_type": "code",
      "source": [
        "# Coletando valores para as variáveis\n",
        "H = float(input(\"Digite as horas: \"))\n",
        "M = float(input(\"Digite os minutos: \"))\n",
        "MH = M/60\n",
        "HT = MH + H\n",
        "print (\"O valor convertido em horas é: \",HT)\n",
        "S = (HT*60) *60\n",
        "print (\"O valor convertido em segundos é: \",S)"
      ],
      "metadata": {
        "colab": {
          "base_uri": "https://localhost:8080/"
        },
        "id": "o-a2TOK8gQjb",
        "outputId": "8f5c9d35-0438-4106-f511-61acea095c2d"
      },
      "execution_count": null,
      "outputs": [
        {
          "output_type": "stream",
          "name": "stdout",
          "text": [
            "Digite as horas: 4\n",
            "Digite os minutos: 24\n",
            "O valor convertido em horas é:  4.4\n",
            "O valor convertido em segundos é:  15840.0\n"
          ]
        }
      ]
    },
    {
      "cell_type": "markdown",
      "source": [
        "9 -"
      ],
      "metadata": {
        "id": "BExR-DfqkV3M"
      }
    },
    {
      "cell_type": "code",
      "source": [
        "# Coletando valores para as variáveis\n",
        "h = float(input(\"Digite as horas trabalhadas: \"))\n",
        "m = float(input(\"Digite os minutos trabalhados: \"))\n",
        "por_hora = float(input(\"Digite o ganho por hora: \"))\n",
        "\n",
        "# Transformando minutos em horas\n",
        "minutos_horas = m/60\n",
        "horas_totais = h + minutos_horas\n",
        "\n",
        "# Calculando o salário\n",
        "salario_sem = horas_totais * por_hora\n",
        "salario_com = salario_sem * 0.70\n",
        "salario_total = salario_com + salario_sem\n",
        "\n",
        "# Resultado\n",
        "print (\"O valor que você deve receber é de: \", round(salario_total,2))"
      ],
      "metadata": {
        "colab": {
          "base_uri": "https://localhost:8080/"
        },
        "id": "y_lAHJkSkXA8",
        "outputId": "16ffd4b8-ec47-4b85-bc65-3fb7c46da5ff"
      },
      "execution_count": 26,
      "outputs": [
        {
          "output_type": "stream",
          "name": "stdout",
          "text": [
            "Digite as horas trabalhadas: 5\n",
            "Digite os minutos trabalhados: 35\n",
            "Digite o ganho por hora: 45\n",
            "O valor que você deve receber é de:  427.12\n"
          ]
        }
      ]
    },
    {
      "cell_type": "markdown",
      "source": [
        "10 -"
      ],
      "metadata": {
        "id": "hl047F3ioGVy"
      }
    },
    {
      "cell_type": "code",
      "source": [
        "# Coletando valores para as variáveis\n",
        "quilometros_percorer = float(input(\"Digite os KM a percorrer: \"))\n",
        "consumo_gasolina= float(input(\"Digite o consumo de gasolina do carro (KM pot Litro): \"))\n",
        "preco_gasolina = float(input(\"Digite o preço médio da gasolina: \"))\n",
        "\n",
        "# Obtendo resultado da conta\n",
        "km = quilometros_percorer / consumo_gasolina\n",
        "p = km * preco_gasolina\n",
        "\n",
        "# resultado\n",
        "print (\"O gasto de gasolina para ir é de: \",p)\n",
        "\n",
        "# ida e volta\n",
        "ida_volta = p * 2\n",
        "\n",
        "# resultado da ida e volta\n",
        "print (\"O gasto para ida e volta é de: \",ida_volta)"
      ],
      "metadata": {
        "colab": {
          "base_uri": "https://localhost:8080/"
        },
        "id": "Ry4WAuckoHoa",
        "outputId": "9bd5b08b-b747-409d-e626-ff0544a879a1"
      },
      "execution_count": 27,
      "outputs": [
        {
          "output_type": "stream",
          "name": "stdout",
          "text": [
            "Digite os KM a percorrer: 2\n",
            "Digite o consumo de gasolina do carro (KM pot Litro): 3\n",
            "Digite o preço médio da gasolina: 4\n",
            "O gasto de gasolina para ir é de:  2.6666666666666665\n",
            "O gasto para ida e volta é de:  5.333333333333333\n"
          ]
        }
      ]
    },
    {
      "cell_type": "markdown",
      "source": [
        "11 -"
      ],
      "metadata": {
        "id": "A70Hh7QoOXQU"
      }
    },
    {
      "cell_type": "code",
      "source": [
        "# Coletando os valores para as variáveis de entrada\n",
        "distancia = float(input(\"Digite a distância percorrida: \"))\n",
        "qtde_horas = int(input(\"Digite a quantidade de horas: \"))\n",
        "qtde_min = int(input(\"Digite a quantidade de minutos: \"))\n",
        "\n",
        "\n"
      ],
      "metadata": {
        "colab": {
          "base_uri": "https://localhost:8080/"
        },
        "id": "qQcuS8U2C3R0",
        "outputId": "ec741c14-32ed-477a-91a0-103b9ad665e2"
      },
      "execution_count": 1,
      "outputs": [
        {
          "name": "stdout",
          "output_type": "stream",
          "text": [
            "Digite a distância percorrida: 150\n",
            "Digite a quantidade de horas: 1\n",
            "Digite a quantidade de minutos: 13\n"
          ]
        }
      ]
    },
    {
      "cell_type": "code",
      "source": [
        "distancia"
      ],
      "metadata": {
        "colab": {
          "base_uri": "https://localhost:8080/"
        },
        "id": "4suEFyqpGYB2",
        "outputId": "3294db58-35cb-477c-b789-2bf458b9f78b"
      },
      "execution_count": 2,
      "outputs": [
        {
          "output_type": "execute_result",
          "data": {
            "text/plain": [
              "150.0"
            ]
          },
          "metadata": {},
          "execution_count": 2
        }
      ]
    },
    {
      "cell_type": "code",
      "source": [
        "# Convertendo minutos em horas\n",
        "tempo_total = qtde_horas + (qtde_min/60)\n",
        "velocidade = distancia/tempo_total"
      ],
      "metadata": {
        "id": "3qxFcyogGjMd"
      },
      "execution_count": 6,
      "outputs": []
    },
    {
      "cell_type": "code",
      "source": [
        "# Saída do programa\n",
        "print (\"A velocidade média foi de:\",round(velocidade,2),\"Km/h\")"
      ],
      "metadata": {
        "colab": {
          "base_uri": "https://localhost:8080/"
        },
        "id": "qdQDYTy2Iiyh",
        "outputId": "72574ce3-a212-4eee-a470-c2a06f9bc7bd"
      },
      "execution_count": 17,
      "outputs": [
        {
          "output_type": "stream",
          "name": "stdout",
          "text": [
            "A velocidade média foi de: 123.29 Km/h\n"
          ]
        }
      ]
    },
    {
      "cell_type": "markdown",
      "source": [
        "![image.png](data:image/png;base64,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)"
      ],
      "metadata": {
        "id": "cCD-N5YBN8qX"
      }
    }
  ]
}