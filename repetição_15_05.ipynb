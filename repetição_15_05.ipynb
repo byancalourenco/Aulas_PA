{
  "nbformat": 4,
  "nbformat_minor": 0,
  "metadata": {
    "colab": {
      "provenance": [],
      "authorship_tag": "ABX9TyMM1+ah60JnOXY91MyhPe4n",
      "include_colab_link": true
    },
    "kernelspec": {
      "name": "python3",
      "display_name": "Python 3"
    },
    "language_info": {
      "name": "python"
    }
  },
  "cells": [
    {
      "cell_type": "markdown",
      "metadata": {
        "id": "view-in-github",
        "colab_type": "text"
      },
      "source": [
        "<a href=\"https://colab.research.google.com/github/byancalourenco/Aulas_PA/blob/main/repeti%C3%A7%C3%A3o_15_05.ipynb\" target=\"_parent\"><img src=\"https://colab.research.google.com/assets/colab-badge.svg\" alt=\"Open In Colab\"/></a>"
      ]
    },
    {
      "cell_type": "markdown",
      "source": [
        "#  **Exercícios**\n"
      ],
      "metadata": {
        "id": "kBAi2EtTq-Sy"
      }
    },
    {
      "cell_type": "markdown",
      "source": [
        "Escreva um algoritimo que leia 20 valores inteiros e ao final exiba:\n",
        "\n",
        "\n",
        "\n",
        "*   soma dos números positivos;\n",
        "*   quantidade de números negativos.\n",
        "\n",
        "\n",
        "\n",
        "\n"
      ],
      "metadata": {
        "id": "8jSDNYozb0RZ"
      }
    },
    {
      "cell_type": "code",
      "execution_count": 15,
      "metadata": {
        "colab": {
          "base_uri": "https://localhost:8080/"
        },
        "id": "ofV-6wiebk_D",
        "outputId": "3af96abc-4351-40b6-c471-afc511f115ee"
      },
      "outputs": [
        {
          "output_type": "stream",
          "name": "stdout",
          "text": [
            "Digite o número: 1\n",
            "Digite o número: 2\n",
            "Digite o número: 3\n",
            "Digite o número: 4\n",
            "Digite o número: 5\n",
            "\n",
            "O valor da média é:  3.0\n",
            "A soma dos números positivos é:  15\n",
            "A quantidade de números negativos é:  0\n"
          ]
        }
      ],
      "source": [
        "soma_positivos = 0\n",
        "quantidade_negativos = 0\n",
        "soma_total = 0\n",
        "\n",
        "for i in range(1,6):\n",
        "  n = int(input(\"Digite o número: \"))\n",
        "  soma_total = soma_total + n\n",
        "  if n >= 0:\n",
        "    soma_positivos = soma_positivos + n\n",
        "  else:\n",
        "    quantidade_negativos = quantidade_negativos + 1     # quantidade_negativo += 1\n",
        "\n",
        "media = soma_total / i    # i vale 5!!!\n",
        "\n",
        "print()\n",
        "\n",
        "print(\"O valor da média é: \",media)\n",
        "print(\"A soma dos números positivos é: \",soma_positivos)\n",
        "print(\"A quantidade de números negativos é: \",quantidade_negativos)\n",
        "\n",
        "\n",
        "\n",
        "\n"
      ]
    },
    {
      "cell_type": "markdown",
      "source": [
        "Escreva um programa que solicite um número inteiro e positivo para o usuário e na sequência o programa deve calcular um valor como mostrado no exemplo abaixo:\n",
        "\n",
        "`numero digitado: 4 `\n",
        "\n",
        "`valor = 1/1 + 1/2 + 1/3 + 1/4`\n",
        "\n",
        "`valor = 2,08`\n"
      ],
      "metadata": {
        "id": "RWE5zHQQlFTn"
      }
    },
    {
      "cell_type": "code",
      "source": [
        "n = int(input(\"Digite o número: \"))\n",
        "\n",
        "valor = 0\n",
        "\n",
        "for i in range(1,n+1):\n",
        "  valor = valor + (1/i)\n",
        "\n",
        "print()\n",
        "\n",
        "print(\"Resultado: \" ,round(valor, 2))\n"
      ],
      "metadata": {
        "colab": {
          "base_uri": "https://localhost:8080/"
        },
        "id": "rGrVdzammJZy",
        "outputId": "3f81a30c-bc42-49f7-ef17-1330b507e202"
      },
      "execution_count": 32,
      "outputs": [
        {
          "output_type": "stream",
          "name": "stdout",
          "text": [
            "Digite o número: 45\n",
            "\n",
            "Resultado:  4.39\n"
          ]
        }
      ]
    },
    {
      "cell_type": "markdown",
      "source": [
        "#  **Trabalhando com strings em laço de repetição**\n",
        "\n",
        "\n",
        "\n",
        "\n",
        "\n",
        "\n",
        "\n",
        "\n",
        "\n",
        "\n",
        "\n"
      ],
      "metadata": {
        "id": "YWc1gGwUqjQ1"
      }
    },
    {
      "cell_type": "code",
      "source": [
        "# len tem a função de CONTAR\n",
        "\n",
        "nome = \"bya\"\n",
        "\n",
        "qtde_letras = len(nome)\n",
        "qtde_letras"
      ],
      "metadata": {
        "colab": {
          "base_uri": "https://localhost:8080/"
        },
        "id": "Nc0Giw2UrKzR",
        "outputId": "ea3fcc93-9f2c-48d4-91ec-1f4537e23414"
      },
      "execution_count": 42,
      "outputs": [
        {
          "output_type": "execute_result",
          "data": {
            "text/plain": [
              "3"
            ]
          },
          "metadata": {},
          "execution_count": 42
        }
      ]
    },
    {
      "cell_type": "code",
      "source": [
        "for letra in nome:\n",
        "  print(letra)"
      ],
      "metadata": {
        "colab": {
          "base_uri": "https://localhost:8080/"
        },
        "id": "713TVbpasJZt",
        "outputId": "d0c45d4c-3384-4834-cc79-eea889f31f03"
      },
      "execution_count": 43,
      "outputs": [
        {
          "output_type": "stream",
          "name": "stdout",
          "text": [
            "b\n",
            "y\n",
            "a\n"
          ]
        }
      ]
    },
    {
      "cell_type": "markdown",
      "source": [
        "# **Split - quebra com base em um critério**\n"
      ],
      "metadata": {
        "id": "xVWnY8aDs225"
      }
    },
    {
      "cell_type": "code",
      "source": [
        "nome = \"byanca lourenço souza\"\n",
        "\n",
        "nome"
      ],
      "metadata": {
        "colab": {
          "base_uri": "https://localhost:8080/",
          "height": 35
        },
        "id": "VPXkroNRtMR8",
        "outputId": "dafa5486-af7e-4e29-fbaa-aab65d89c294"
      },
      "execution_count": 44,
      "outputs": [
        {
          "output_type": "execute_result",
          "data": {
            "text/plain": [
              "'byanca lourenço souza'"
            ],
            "application/vnd.google.colaboratory.intrinsic+json": {
              "type": "string"
            }
          },
          "metadata": {},
          "execution_count": 44
        }
      ]
    },
    {
      "cell_type": "code",
      "source": [
        "separados = nome.split()\n",
        "separados # vamos ter varios valores dentro de \"separados\""
      ],
      "metadata": {
        "colab": {
          "base_uri": "https://localhost:8080/"
        },
        "id": "r7DEiiZntiBU",
        "outputId": "7a73d7d9-108b-452d-82b0-99150ab647fb"
      },
      "execution_count": 45,
      "outputs": [
        {
          "output_type": "execute_result",
          "data": {
            "text/plain": [
              "['byanca', 'lourenço', 'souza']"
            ]
          },
          "metadata": {},
          "execution_count": 45
        }
      ]
    },
    {
      "cell_type": "code",
      "source": [
        "for nome in separados:\n",
        "  print(nome)"
      ],
      "metadata": {
        "colab": {
          "base_uri": "https://localhost:8080/"
        },
        "id": "RVKNuB3GuMiV",
        "outputId": "845f098f-691f-4710-c6ac-d3e9309c1386"
      },
      "execution_count": 46,
      "outputs": [
        {
          "output_type": "stream",
          "name": "stdout",
          "text": [
            "byanca\n",
            "lourenço\n",
            "souza\n"
          ]
        }
      ]
    },
    {
      "cell_type": "markdown",
      "source": [
        "Pesquisando"
      ],
      "metadata": {
        "id": "3mdReajBw6Gb"
      }
    },
    {
      "cell_type": "code",
      "source": [
        "for verificador in \"byanca\":\n",
        "  if verificador == \"h\":\n",
        "    print(\"Achei a letra h\")\n",
        "  else:\n",
        "    print(\"Não ache a letra h\")"
      ],
      "metadata": {
        "colab": {
          "base_uri": "https://localhost:8080/"
        },
        "id": "k-zxlBySwNYx",
        "outputId": "e41f1e1b-d2d0-4d93-b91f-a23df3b6614a"
      },
      "execution_count": 49,
      "outputs": [
        {
          "output_type": "stream",
          "name": "stdout",
          "text": [
            "Não ache a letra h\n",
            "Não ache a letra h\n",
            "Não ache a letra h\n",
            "Não ache a letra h\n",
            "Não ache a letra h\n",
            "Não ache a letra h\n"
          ]
        }
      ]
    },
    {
      "cell_type": "code",
      "source": [
        "qtde = 0\n",
        "\n",
        "for verificador in \"byanca\":\n",
        "  if verificador == \"a\":\n",
        "    flag = True\n",
        "    qtde = qtde + 1\n",
        "  else:\n",
        "    flag = False\n",
        "\n",
        "if flag == True:\n",
        "    print(\"Achei a letra A\")\n",
        "else:\n",
        "    print(\"Não achei a letra A\")\n",
        "\n",
        "print(\"Quantidade de letras A: \",qtde)\n",
        "\n",
        "\n",
        "\n",
        ""
      ],
      "metadata": {
        "colab": {
          "base_uri": "https://localhost:8080/"
        },
        "id": "CRuy0RRdz89B",
        "outputId": "6bc2f4fb-4ad6-44d7-b2d2-e7043a16fc0c"
      },
      "execution_count": 61,
      "outputs": [
        {
          "output_type": "stream",
          "name": "stdout",
          "text": [
            "Não achei a letra A\n",
            "Quantidade de letras A:  0\n"
          ]
        }
      ]
    }
  ]
}