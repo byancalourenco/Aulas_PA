{
  "nbformat": 4,
  "nbformat_minor": 0,
  "metadata": {
    "colab": {
      "provenance": [],
      "authorship_tag": "ABX9TyO+2peoWGPKSQIZnNEUNfh/",
      "include_colab_link": true
    },
    "kernelspec": {
      "name": "python3",
      "display_name": "Python 3"
    },
    "language_info": {
      "name": "python"
    }
  },
  "cells": [
    {
      "cell_type": "markdown",
      "metadata": {
        "id": "view-in-github",
        "colab_type": "text"
      },
      "source": [
        "<a href=\"https://colab.research.google.com/github/byancalourenco/Aulas_PA/blob/main/funcoes_exemplos.ipynb\" target=\"_parent\"><img src=\"https://colab.research.google.com/assets/colab-badge.svg\" alt=\"Open In Colab\"/></a>"
      ]
    },
    {
      "cell_type": "markdown",
      "source": [
        "# Função sem retorno e sem parâmetro\n"
      ],
      "metadata": {
        "id": "IFYhXL_OjiOk"
      }
    },
    {
      "cell_type": "code",
      "execution_count": null,
      "metadata": {
        "colab": {
          "base_uri": "https://localhost:8080/"
        },
        "id": "ACzsiS0DbdnE",
        "outputId": "cd0a95e8-ff2d-47b4-db0b-78be553986ab"
      },
      "outputs": [
        {
          "output_type": "stream",
          "name": "stdout",
          "text": [
            "bom dia\n"
          ]
        }
      ],
      "source": [
        "# função sem retorno e sem parâmetro\n",
        "\n",
        "def msg():\n",
        "  print(\"bom dia\")\n",
        "\n",
        "msg()"
      ]
    },
    {
      "cell_type": "markdown",
      "source": [
        "# Função sem retorno e com parâmetro"
      ],
      "metadata": {
        "id": "Jzt0q2rAjYVp"
      }
    },
    {
      "cell_type": "code",
      "source": [
        "# função sem retorno e com parâmetro\n",
        "\n",
        "def potencia(base,expoente):\n",
        "  resultado = base ** expoente\n",
        "  print(\"o resultado é: \",resultado)\n",
        "\n",
        "potencia(2,3)   # 2 = base | 3 = expoente"
      ],
      "metadata": {
        "colab": {
          "base_uri": "https://localhost:8080/"
        },
        "id": "3KnGDOT8b9am",
        "outputId": "8af0179a-635d-4aaa-b0df-087718088e9c"
      },
      "execution_count": null,
      "outputs": [
        {
          "output_type": "stream",
          "name": "stdout",
          "text": [
            "o resultado é:  8\n"
          ]
        }
      ]
    },
    {
      "cell_type": "code",
      "source": [
        "# raíz quadrada\n",
        "\n",
        "def raiz(n):  # só preciso de um número\n",
        "  raiz = n ** 0.5\n",
        "  print(\"a raíz quadrada de\",n, \"é igual a\",raiz)\n",
        "\n",
        "raiz(9)"
      ],
      "metadata": {
        "colab": {
          "base_uri": "https://localhost:8080/"
        },
        "id": "zy6m61-Vc-Kg",
        "outputId": "c7a2cfb1-3c51-458c-b87c-1b04709444fa"
      },
      "execution_count": null,
      "outputs": [
        {
          "output_type": "stream",
          "name": "stdout",
          "text": [
            "a raíz quadrada de 9 é igual a 3.0\n"
          ]
        }
      ]
    },
    {
      "cell_type": "markdown",
      "source": [
        "# Função com retorno e parâmtero"
      ],
      "metadata": {
        "id": "zmwMfl7RjLPi"
      }
    },
    {
      "cell_type": "code",
      "source": [
        "def soma(x,y):\n",
        "  soma = x + y\n",
        "  return soma\n",
        "\n",
        "print(\"exemplo com retorno\")\n",
        "n1 = int(input(\"digite o primeiro número: \"))\n",
        "n2 = int(input(\"digite o segundo número: \"))\n",
        "retorno = soma(n1,n2)\n",
        "print(\"voltou da função: \",retorno)"
      ],
      "metadata": {
        "id": "GljUYxy5d9Nw",
        "colab": {
          "base_uri": "https://localhost:8080/"
        },
        "outputId": "adf3d608-2d71-48f9-c79f-c87edc4a10af"
      },
      "execution_count": null,
      "outputs": [
        {
          "output_type": "stream",
          "name": "stdout",
          "text": [
            "exemplo com retorno\n",
            "digite o primeiro número: 2\n",
            "digite o segundo número: 3\n",
            "voltou da função:  5\n"
          ]
        }
      ]
    },
    {
      "cell_type": "code",
      "source": [
        "def soma(x,y):\n",
        "  soma = x + y\n",
        "  return soma\n",
        "\n",
        "print(\"exemplo com retorno\")\n",
        "n1 = int(input(\"digite o primeiro número: \"))\n",
        "n2 = int(input(\"digite o segundo número: \"))\n",
        "print(\"voltou da função: \",soma(n1,n2))"
      ],
      "metadata": {
        "colab": {
          "base_uri": "https://localhost:8080/"
        },
        "id": "M1JdNJlNgYv7",
        "outputId": "46c2d004-717b-4963-ca96-4db16420a1dd"
      },
      "execution_count": null,
      "outputs": [
        {
          "output_type": "stream",
          "name": "stdout",
          "text": [
            "exemplo com retorno\n",
            "digite o primeiro número: 2\n",
            "digite o segundo número: 3\n",
            "voltou da função:  5\n"
          ]
        }
      ]
    },
    {
      "cell_type": "markdown",
      "source": [
        "# Com base no exemplo anterior, cite um programa que peça três vezes dois números e utilize a função acima para soma-los e exibir na tela o resultado"
      ],
      "metadata": {
        "id": "-lPOzg-Fiuvt"
      }
    },
    {
      "cell_type": "code",
      "source": [
        "def soma(x,y):\n",
        "  soma = x + y\n",
        "  return soma\n",
        "\n",
        "for i in range(1,4):\n",
        "  n1 = int(input(\"digite o 1° número: \"))\n",
        "  n2 = int(input(\"digite o 2° número: \"))\n",
        "  retorno = soma(n1,n2)\n",
        "  print(\"resultado da\",i,\"° conta: \",retorno)\n",
        "  print()"
      ],
      "metadata": {
        "colab": {
          "base_uri": "https://localhost:8080/"
        },
        "id": "sU51gq7ehPfL",
        "outputId": "457ccf39-6ded-471f-a31f-5aa6e9067ba1"
      },
      "execution_count": null,
      "outputs": [
        {
          "output_type": "stream",
          "name": "stdout",
          "text": [
            "digite o 1° número: 1\n",
            "digite o 2° número: 1\n",
            "resultado da 1 ° conta:  2\n",
            "\n",
            "digite o 1° número: 2\n",
            "digite o 2° número: 2\n",
            "resultado da 2 ° conta:  4\n",
            "\n",
            "digite o 1° número: 3\n",
            "digite o 2° número: 3\n",
            "resultado da 3 ° conta:  6\n",
            "\n"
          ]
        }
      ]
    }
  ]
}
