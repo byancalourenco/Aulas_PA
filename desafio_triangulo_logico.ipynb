{
  "nbformat": 4,
  "nbformat_minor": 0,
  "metadata": {
    "colab": {
      "provenance": [],
      "authorship_tag": "ABX9TyMPN1xTkS6obsahGQbdeLTZ",
      "include_colab_link": true
    },
    "kernelspec": {
      "name": "python3",
      "display_name": "Python 3"
    },
    "language_info": {
      "name": "python"
    }
  },
  "cells": [
    {
      "cell_type": "markdown",
      "metadata": {
        "id": "view-in-github",
        "colab_type": "text"
      },
      "source": [
        "<a href=\"https://colab.research.google.com/github/byancalourenco/Aulas_PA/blob/main/desafio_triangulo_logico.ipynb\" target=\"_parent\"><img src=\"https://colab.research.google.com/assets/colab-badge.svg\" alt=\"Open In Colab\"/></a>"
      ]
    },
    {
      "cell_type": "markdown",
      "source": [
        "# Desafio triângulo lógico"
      ],
      "metadata": {
        "id": "0ktVyPqmTD-m"
      }
    },
    {
      "cell_type": "code",
      "execution_count": 18,
      "metadata": {
        "colab": {
          "base_uri": "https://localhost:8080/"
        },
        "id": "v96q1R37SpR2",
        "outputId": "49c862e4-67ae-4266-8b38-b6917b446c31"
      },
      "outputs": [
        {
          "name": "stdout",
          "output_type": "stream",
          "text": [
            "Digite o valor de a: 2\n",
            "Digite o valor de b: 3\n",
            "Digite o valor de c: 2\n"
          ]
        }
      ],
      "source": [
        "# entrada\n",
        "a = float(input(\"Digite o valor de a: \"))\n",
        "b = float(input(\"Digite o valor de b: \"))\n",
        "c = float(input(\"Digite o valor de c: \"))\n",
        "\n"
      ]
    },
    {
      "cell_type": "code",
      "source": [
        "# verificando se é um triângulo\n",
        "triangulo = (a < b + c) and (b < a + c) and (c < a + b)\n",
        "print(\"As medidas fornecidas formam um triângulo?\",triangulo)"
      ],
      "metadata": {
        "colab": {
          "base_uri": "https://localhost:8080/"
        },
        "id": "lLxicCDSTwUy",
        "outputId": "a1ca589c-e544-48be-c278-e191967e1a71"
      },
      "execution_count": 19,
      "outputs": [
        {
          "output_type": "stream",
          "name": "stdout",
          "text": [
            "As medidas fornecidas formam um triângulo? True\n"
          ]
        }
      ]
    },
    {
      "cell_type": "code",
      "source": [
        "# verificando se é equilátero\n",
        "equilatero = ((a == b) and (b == c)) and triangulo\n",
        "print(\"O triângulo é equilátero?\",equilatero)"
      ],
      "metadata": {
        "colab": {
          "base_uri": "https://localhost:8080/"
        },
        "id": "z7B-D_lDU-rg",
        "outputId": "6d6426ac-d9be-4602-fbc3-42bb753ed221"
      },
      "execution_count": 20,
      "outputs": [
        {
          "output_type": "stream",
          "name": "stdout",
          "text": [
            "O triângulo é equilátero? False\n"
          ]
        }
      ]
    },
    {
      "cell_type": "code",
      "source": [
        "# verificando se é escaleno\n",
        "escaleno = ((a != b) and (b != c) and (a != c)) and triangulo\n",
        "print(\"O triângulo é escaleno?\",escaleno)"
      ],
      "metadata": {
        "colab": {
          "base_uri": "https://localhost:8080/"
        },
        "id": "OU0bLAgWV9iE",
        "outputId": "f2496212-4404-412b-db2e-d39ea66b0c79"
      },
      "execution_count": 21,
      "outputs": [
        {
          "output_type": "stream",
          "name": "stdout",
          "text": [
            "O triângulo é escaleno? False\n"
          ]
        }
      ]
    },
    {
      "cell_type": "code",
      "source": [
        "# verificando se é isósceles\n",
        "isosceles = ((a == b) or (a == c) or (b == c)) and ((a != b) or (a != c) or (b != c)) and triangulo\n",
        "print(\"O triângulo é isósceles?\",isosceles)"
      ],
      "metadata": {
        "colab": {
          "base_uri": "https://localhost:8080/"
        },
        "id": "kXQEffKEWl5I",
        "outputId": "5259bef9-e0ad-408b-af33-7162d9639909"
      },
      "execution_count": 23,
      "outputs": [
        {
          "output_type": "stream",
          "name": "stdout",
          "text": [
            "O triângulo é isósceles? True\n"
          ]
        }
      ]
    }
  ]
}