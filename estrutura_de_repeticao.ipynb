{
  "nbformat": 4,
  "nbformat_minor": 0,
  "metadata": {
    "colab": {
      "provenance": [],
      "authorship_tag": "ABX9TyOL09E0yCEPF00WI6oi24Fw",
      "include_colab_link": true
    },
    "kernelspec": {
      "name": "python3",
      "display_name": "Python 3"
    },
    "language_info": {
      "name": "python"
    }
  },
  "cells": [
    {
      "cell_type": "markdown",
      "metadata": {
        "id": "view-in-github",
        "colab_type": "text"
      },
      "source": [
        "<a href=\"https://colab.research.google.com/github/byancalourenco/Aulas_PA/blob/main/estrutura_de_repeticao.ipynb\" target=\"_parent\"><img src=\"https://colab.research.google.com/assets/colab-badge.svg\" alt=\"Open In Colab\"/></a>"
      ]
    },
    {
      "cell_type": "code",
      "execution_count": 4,
      "metadata": {
        "colab": {
          "base_uri": "https://localhost:8080/"
        },
        "id": "QebBSempYe41",
        "outputId": "3372fcd3-a687-4f40-e305-156e1625462d"
      },
      "outputs": [
        {
          "output_type": "stream",
          "name": "stdout",
          "text": [
            "Bom dia\n",
            "Bom dia\n",
            "Bom dia\n",
            "Bom dia\n",
            "Bom dia\n",
            "Bom dia\n",
            "Bom dia\n",
            "Bom dia\n",
            "Bom dia\n",
            "Bom dia\n"
          ]
        }
      ],
      "source": [
        "# Imprimir na tela a frase \"bom dia\" 10 vezes\n",
        "\n",
        "print(\"Bom dia\")\n",
        "print(\"Bom dia\")\n",
        "print(\"Bom dia\")\n",
        "print(\"Bom dia\")\n",
        "print(\"Bom dia\")\n",
        "print(\"Bom dia\")\n",
        "print(\"Bom dia\")\n",
        "print(\"Bom dia\")\n",
        "print(\"Bom dia\")\n",
        "print(\"Bom dia\")\n",
        "\n",
        "\n",
        "\n"
      ]
    },
    {
      "cell_type": "markdown",
      "source": [
        "# **Laço de repetição FOR**"
      ],
      "metadata": {
        "id": "J5MOA_lDZzSI"
      }
    },
    {
      "cell_type": "code",
      "source": [
        "for i in range(10):\n",
        "  print(i)\n"
      ],
      "metadata": {
        "colab": {
          "base_uri": "https://localhost:8080/"
        },
        "id": "DhiRPtRLbGK9",
        "outputId": "1f554ec3-bffa-4dce-f9ae-44c23b93eb37"
      },
      "execution_count": 13,
      "outputs": [
        {
          "output_type": "stream",
          "name": "stdout",
          "text": [
            "0\n",
            "1\n",
            "2\n",
            "3\n",
            "4\n",
            "5\n",
            "6\n",
            "7\n",
            "8\n",
            "9\n"
          ]
        }
      ]
    },
    {
      "cell_type": "code",
      "source": [
        "for i in range(10):\n",
        "  print(\"Bom dia\")"
      ],
      "metadata": {
        "colab": {
          "base_uri": "https://localhost:8080/"
        },
        "id": "5vZj0h2paEec",
        "outputId": "8b808915-ce3c-4815-916d-86439cd81b29"
      },
      "execution_count": 5,
      "outputs": [
        {
          "output_type": "stream",
          "name": "stdout",
          "text": [
            "Bom dia\n",
            "Bom dia\n",
            "Bom dia\n",
            "Bom dia\n",
            "Bom dia\n",
            "Bom dia\n",
            "Bom dia\n",
            "Bom dia\n",
            "Bom dia\n",
            "Bom dia\n"
          ]
        }
      ]
    },
    {
      "cell_type": "code",
      "source": [
        "for i in range(10):\n",
        "  print(i,\"-Bom dia\")"
      ],
      "metadata": {
        "colab": {
          "base_uri": "https://localhost:8080/"
        },
        "id": "4r9njAcJbNSs",
        "outputId": "ebab440e-0043-4f1f-84fd-006f69c9f714"
      },
      "execution_count": 7,
      "outputs": [
        {
          "output_type": "stream",
          "name": "stdout",
          "text": [
            "0 -Bom dia\n",
            "1 -Bom dia\n",
            "2 -Bom dia\n",
            "3 -Bom dia\n",
            "4 -Bom dia\n",
            "5 -Bom dia\n",
            "6 -Bom dia\n",
            "7 -Bom dia\n",
            "8 -Bom dia\n",
            "9 -Bom dia\n"
          ]
        }
      ]
    },
    {
      "cell_type": "code",
      "source": [
        "for i in range(10):\n",
        "  print(i+1,\"-Bom dia\")"
      ],
      "metadata": {
        "colab": {
          "base_uri": "https://localhost:8080/"
        },
        "id": "f1s-LuDBbU28",
        "outputId": "8e7876c5-a806-4313-816e-659ade38633f"
      },
      "execution_count": 8,
      "outputs": [
        {
          "output_type": "stream",
          "name": "stdout",
          "text": [
            "1 -Bom dia\n",
            "2 -Bom dia\n",
            "3 -Bom dia\n",
            "4 -Bom dia\n",
            "5 -Bom dia\n",
            "6 -Bom dia\n",
            "7 -Bom dia\n",
            "8 -Bom dia\n",
            "9 -Bom dia\n",
            "10 -Bom dia\n"
          ]
        }
      ]
    },
    {
      "cell_type": "code",
      "source": [
        "for i in range(1,11):\n",
        "  print(i,\"-Bom dia\")"
      ],
      "metadata": {
        "colab": {
          "base_uri": "https://localhost:8080/"
        },
        "id": "4vD3BIAsbd_q",
        "outputId": "8b0745ed-e3d1-4eba-c26b-8e9d3567a061"
      },
      "execution_count": 9,
      "outputs": [
        {
          "output_type": "stream",
          "name": "stdout",
          "text": [
            "1 -Bom dia\n",
            "2 -Bom dia\n",
            "3 -Bom dia\n",
            "4 -Bom dia\n",
            "5 -Bom dia\n",
            "6 -Bom dia\n",
            "7 -Bom dia\n",
            "8 -Bom dia\n",
            "9 -Bom dia\n",
            "10 -Bom dia\n"
          ]
        }
      ]
    },
    {
      "cell_type": "code",
      "source": [
        "# Mostrar todos os números impares de 1 a 30\n",
        "for i in range(1,31):\n",
        "  if i%2 == 1:\n",
        "    print(i)"
      ],
      "metadata": {
        "colab": {
          "base_uri": "https://localhost:8080/"
        },
        "id": "OGUFXDfZbs47",
        "outputId": "d617a0a8-08e7-495d-b07c-c98bb0b2b73a"
      },
      "execution_count": 11,
      "outputs": [
        {
          "output_type": "stream",
          "name": "stdout",
          "text": [
            "1\n",
            "3\n",
            "5\n",
            "7\n",
            "9\n",
            "11\n",
            "13\n",
            "15\n",
            "17\n",
            "19\n",
            "21\n",
            "23\n",
            "25\n",
            "27\n",
            "29\n"
          ]
        }
      ]
    },
    {
      "cell_type": "code",
      "source": [
        "# Mostrar todos os números impares de 1 a 30\n",
        "for i in range(1,31):\n",
        "  if i%2 == 0:\n",
        "    print(i)"
      ],
      "metadata": {
        "colab": {
          "base_uri": "https://localhost:8080/"
        },
        "id": "tbwgQrRffMMG",
        "outputId": "9a852709-1204-4259-a8ba-51ed194475c1"
      },
      "execution_count": 12,
      "outputs": [
        {
          "output_type": "stream",
          "name": "stdout",
          "text": [
            "2\n",
            "4\n",
            "6\n",
            "8\n",
            "10\n",
            "12\n",
            "14\n",
            "16\n",
            "18\n",
            "20\n",
            "22\n",
            "24\n",
            "26\n",
            "28\n",
            "30\n"
          ]
        }
      ]
    },
    {
      "cell_type": "code",
      "source": [
        "# contador de um número inicial e um número final, digitado pelo usuário\n",
        "\n",
        "inicio = int(input(\"Digite o 1º número: \"))\n",
        "fim = int(input(\"Digite o 2º número: \"))\n",
        "\n",
        "print()\n",
        "\n",
        "if inicio > fim:\n",
        "\n",
        "  # aux = inicio\n",
        "  #inicio = fim\n",
        "  # fim = aux\n",
        "\n",
        "  inicio,fim = fim,inicio\n",
        "\n",
        "\n",
        "for i in range(inicio,fim + 1):\n",
        "  print(i)"
      ],
      "metadata": {
        "colab": {
          "base_uri": "https://localhost:8080/"
        },
        "id": "JNfZwlApfX92",
        "outputId": "6542e1da-8ac2-4200-b63f-7752169a1959"
      },
      "execution_count": 21,
      "outputs": [
        {
          "output_type": "stream",
          "name": "stdout",
          "text": [
            "Digite o 1º número: 2\n",
            "Digite o 2º número: 7\n",
            "\n",
            "2\n",
            "3\n",
            "4\n",
            "5\n",
            "6\n",
            "7\n"
          ]
        }
      ]
    },
    {
      "cell_type": "code",
      "source": [
        "# some todos os números de 1 a 10\n",
        "\n",
        "soma = 0\n",
        "\n",
        "for i in range(1,11):\n",
        "  soma = soma + i\n",
        "  print(\"acumulado: \",soma)\n",
        "\n",
        "\n",
        "\n",
        "print(\"total: \",soma)\n",
        ""
      ],
      "metadata": {
        "colab": {
          "base_uri": "https://localhost:8080/"
        },
        "id": "PoN3xRS7jam_",
        "outputId": "278e1a03-f2ea-4563-d32b-ae49227077ad"
      },
      "execution_count": 25,
      "outputs": [
        {
          "output_type": "stream",
          "name": "stdout",
          "text": [
            "acumulado:  1\n",
            "acumulado:  3\n",
            "acumulado:  6\n",
            "acumulado:  10\n",
            "acumulado:  15\n",
            "acumulado:  21\n",
            "acumulado:  28\n",
            "acumulado:  36\n",
            "acumulado:  45\n",
            "acumulado:  55\n",
            "total:  55\n"
          ]
        }
      ]
    },
    {
      "cell_type": "code",
      "source": [
        "# soma de todos os números ímpares de 1 a 100\n",
        "\n",
        "soma = 0\n",
        "\n",
        "for i in range(1,101):\n",
        "  if i%2 > 0:\n",
        "    soma = soma + i\n",
        "\n",
        "\n",
        "print(soma)\n",
        "\n",
        "\n",
        "\n",
        "\n",
        "\n",
        "\n",
        "\n"
      ],
      "metadata": {
        "colab": {
          "base_uri": "https://localhost:8080/"
        },
        "id": "IAh4ezLWlJlO",
        "outputId": "2cadb63f-6b4e-4f70-a8a3-379ddf2f9f4e"
      },
      "execution_count": 35,
      "outputs": [
        {
          "output_type": "stream",
          "name": "stdout",
          "text": [
            "2500\n"
          ]
        }
      ]
    },
    {
      "cell_type": "markdown",
      "source": [
        "# **Laço de repetição WHILE**"
      ],
      "metadata": {
        "id": "7F6Y87fXn38X"
      }
    },
    {
      "cell_type": "code",
      "source": [
        "# contador de 1 a 10\n",
        "\n",
        "num = 1\n",
        "while (num <= 10):\n",
        "  print(num)\n",
        "  num = num + 1 # ou num += 1 (acrescentar uma unidade ao valor que já tem em num)"
      ],
      "metadata": {
        "colab": {
          "base_uri": "https://localhost:8080/"
        },
        "id": "Cr6bmI8on9ot",
        "outputId": "e8d16221-d4f6-43b1-99b6-0ab460432a13"
      },
      "execution_count": 36,
      "outputs": [
        {
          "output_type": "stream",
          "name": "stdout",
          "text": [
            "1\n",
            "2\n",
            "3\n",
            "4\n",
            "5\n",
            "6\n",
            "7\n",
            "8\n",
            "9\n",
            "10\n"
          ]
        }
      ]
    },
    {
      "cell_type": "code",
      "source": [
        "# digite números até que o usuário digite 0\n",
        "\n",
        "numero = int(input(\"Digite um número: \"))\n",
        "while numero != 0:\n",
        "  numero = int(input(\"Digite um número: \"))"
      ],
      "metadata": {
        "colab": {
          "base_uri": "https://localhost:8080/"
        },
        "id": "x36jA5hqppse",
        "outputId": "cb6ba3ad-cb0a-4240-a820-ef4cb380e0a4"
      },
      "execution_count": 39,
      "outputs": [
        {
          "name": "stdout",
          "output_type": "stream",
          "text": [
            "Digite um número: 5\n",
            "Digite um número: 6\n",
            "Digite um número: 7\n",
            "Digite um número: 9\n",
            "Digite um número: 0\n"
          ]
        }
      ]
    },
    {
      "cell_type": "code",
      "source": [
        "# somas números até que o usuário digite 0\n",
        "\n",
        "numero = int(input(\"Digite um número: \"))\n",
        "soma = numero\n",
        "\n",
        "while numero != 0:\n",
        "  numero = int(input(\"Digite um número: \"))\n",
        "  soma += numero\n",
        "\n",
        "\n",
        "\n",
        "print(\"total: \", soma)"
      ],
      "metadata": {
        "colab": {
          "base_uri": "https://localhost:8080/"
        },
        "id": "gMsqfl5SxPQb",
        "outputId": "c001ca99-ae14-451e-8daa-3a903782b11f"
      },
      "execution_count": 45,
      "outputs": [
        {
          "output_type": "stream",
          "name": "stdout",
          "text": [
            "Digite um número: 1\n",
            "Digite um número: 2\n",
            "Digite um número: 3\n",
            "Digite um número: 4\n",
            "Digite um número: 0\n",
            "total:  10\n"
          ]
        }
      ]
    },
    {
      "cell_type": "code",
      "source": [
        "# criando um menu de opções\n",
        "\n",
        "opcao = 0\n",
        "\n",
        "while opcao != 4:\n",
        "  print(\"Escolha uma opção: \")\n",
        "  print(\"Digite 1 para opção 1\")\n",
        "  print(\"Digite 2 para opção 2\")\n",
        "  print(\"Digite 3 para opção 3\")\n",
        "  print(\"Digite 4 para opção 4\")\n",
        "  opcao = int(input(\"Sua opção: \"))\n",
        "\n",
        "  if opcao == 1:\n",
        "    print(\"Você escolheu a opção 1\")\n",
        "  if opcao == 2:\n",
        "    print(\"Você escolheu a opção 2\")\n",
        "  if opcao == 3:\n",
        "    print(\"Você escolheu a opção 3\")\n",
        "\n",
        "\n",
        "\n",
        "\n"
      ],
      "metadata": {
        "colab": {
          "base_uri": "https://localhost:8080/"
        },
        "id": "r1oQvIzIzA-d",
        "outputId": "7e9391c9-a870-4203-eeb8-06c4a5971bca"
      },
      "execution_count": 54,
      "outputs": [
        {
          "name": "stdout",
          "output_type": "stream",
          "text": [
            "Escolha uma opção: \n",
            "Digite 1 para opção 1\n",
            "Digite 2 para opção 2\n",
            "Digite 3 para opção 3\n",
            "Digite 4 para opção 4\n",
            "Sua opção: 1\n",
            "Você escolheu a opção 1\n",
            "Escolha uma opção: \n",
            "Digite 1 para opção 1\n",
            "Digite 2 para opção 2\n",
            "Digite 3 para opção 3\n",
            "Digite 4 para opção 4\n",
            "Sua opção: 2\n",
            "Você escolheu a opção 2\n",
            "Escolha uma opção: \n",
            "Digite 1 para opção 1\n",
            "Digite 2 para opção 2\n",
            "Digite 3 para opção 3\n",
            "Digite 4 para opção 4\n",
            "Sua opção: 4\n"
          ]
        }
      ]
    }
  ]
}